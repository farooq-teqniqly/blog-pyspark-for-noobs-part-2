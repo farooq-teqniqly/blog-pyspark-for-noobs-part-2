{
 "cells": [
  {
   "cell_type": "code",
   "execution_count": 96,
   "metadata": {},
   "outputs": [],
   "source": [
    "import urllib.request\n",
    "\n",
    "from pyspark.sql import SparkSession \n",
    "from pyspark.sql import functions as F\n",
    "\n",
    "spark = SparkSession.builder.getOrCreate()\n",
    "\n",
    "file_name = \"shakespeare.txt\"\n",
    "\n",
    "urllib.request.urlretrieve(f\"http://www.gutenberg.org/files/100/100-0.txt\", file_name) \n",
    "\n",
    "stop_words_df = (spark.read.text(\"./stopwords.txt\")\n",
    "                .select(F.lower(F.col(\"value\")).alias(\"words_lower\"))\n",
    "                .select(F.rtrim(F.col(\"words_lower\")).alias(\"word\")))\n",
    "\n",
    "word_counts_df = (spark.read.text(f\"./{file_name}\")\n",
    " .select(F.lower(F.col(\"value\")).alias(\"words_lower\"))\n",
    " .select(F.split(F.col(\"words_lower\"), \" \").alias(\"words_split\"))\n",
    " .select(F.explode(F.col(\"words_split\")).alias(\"word\"))\n",
    " .select(F.regexp_extract(F.col(\"word\"), \"[a-z]+\", 0).alias(\"word\"))\n",
    " .where(F.ltrim(F.col(\"word\")) != \"\")\n",
    " .join(stop_words_df, \"word\",  \"leftanti\")\n",
    " .groupBy(\"word\")\n",
    " .count()\n",
    " .orderBy(F.col(\"count\").desc()))"
   ]
  },
  {
   "cell_type": "code",
   "execution_count": null,
   "metadata": {},
   "outputs": [],
   "source": []
  }
 ],
 "metadata": {
  "kernelspec": {
   "display_name": "Python 3",
   "language": "python",
   "name": "python3"
  },
  "language_info": {
   "codemirror_mode": {
    "name": "ipython",
    "version": 3
   },
   "file_extension": ".py",
   "mimetype": "text/x-python",
   "name": "python",
   "nbconvert_exporter": "python",
   "pygments_lexer": "ipython3",
   "version": "3.7.6"
  }
 },
 "nbformat": 4,
 "nbformat_minor": 4
}
